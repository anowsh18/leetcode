{
 "cells": [
  {
   "cell_type": "code",
   "execution_count": 94,
   "id": "f2feef90-c9af-4a81-a843-be1d85a77da9",
   "metadata": {},
   "outputs": [],
   "source": [
    "def rot_90(mat):\n",
    "    col=[]\n",
    "    for i in zip(*mat):\n",
    "        col.append(list(i))\n",
    "    rot_mat=[]\n",
    "    for i in col:\n",
    "        rot_mat.append(i[::-1])\n",
    "    return rot_mat\n",
    "def rot_180(mat):\n",
    "    mat=mat[::-1]\n",
    "    rot_mat=[]\n",
    "    for i in mat:\n",
    "        i=i[::-1]\n",
    "        rot_mat.append(i)\n",
    "    return rot_mat\n",
    "def rot_270(mat):\n",
    "    col=[list(i) for i in zip(*mat)][::-1]\n",
    "    rot_mat=[]\n",
    "    for i in col:\n",
    "        rot_mat.append(i)\n",
    "    return rot_mat\n",
    "def rot_45(mat):\n",
    "    n=len(mat)\n",
    "    x=[(i,j) for i in range(n) for j in range(n)]\n",
    "    fx=[]\n",
    "    for i in range(2*n-1):\n",
    "        temp=[]\n",
    "        for j in x:\n",
    "            if j[0]+j[1]==i:\n",
    "                temp.append(j)\n",
    "        fx.append(temp)\n",
    "    for i in fx:\n",
    "        print(\" \"*(n-len(i)),end=\"\")\n",
    "        for j in i:\n",
    "            print(mat[j[0]][j[1]],end=\" \")\n",
    "        print()"
   ]
  },
  {
   "cell_type": "code",
   "execution_count": 95,
   "id": "dcfd83c7-e6fa-49f5-8ea6-8ce400608db1",
   "metadata": {},
   "outputs": [
    {
     "name": "stdin",
     "output_type": "stream",
     "text": [
      " 3\n",
      " 1\n",
      " 2\n",
      " 3\n",
      " 4\n",
      " 5\n",
      " 6\n",
      " 7\n",
      " 8\n",
      " 9\n"
     ]
    },
    {
     "name": "stdout",
     "output_type": "stream",
     "text": [
      "Matrix before rotation\n",
      "1 2 3 \n",
      "4 5 6 \n",
      "7 8 9 \n",
      "Matrix after rotating by 90 degreess\n",
      "7 4 1 \n",
      "8 5 2 \n",
      "9 6 3 \n",
      "\n",
      "Matrix after rotating by 180 degreess\n",
      "9 8 7 \n",
      "6 5 4 \n",
      "3 2 1 \n",
      "\n",
      "Matrix after rotating by 270 degreess\n",
      "3 6 9 \n",
      "2 5 8 \n",
      "1 4 7 \n",
      "Matrix after rotating by 45 degreess\n",
      "  1 \n",
      " 2 4 \n",
      "3 5 7 \n",
      " 6 8 \n",
      "  9 \n"
     ]
    }
   ],
   "source": [
    "n=int(input())\n",
    "matrix=[]\n",
    "for i in range(n):\n",
    "    x=[]\n",
    "    for j in range(n):\n",
    "        x.append(int(input()))\n",
    "    matrix.append(x)\n",
    "print(f'Matrix before rotation')\n",
    "for i in range(n):\n",
    "    for j in range(n):\n",
    "        print(matrix[i][j],end=\" \")\n",
    "    print()\n",
    "print(f'Matrix after rotating by 90 degreess')\n",
    "x=rot_90(matrix)\n",
    "row=len(x)\n",
    "col=len(x[0])\n",
    "for i in range(row):\n",
    "    for j in range(col):\n",
    "        print(x[i][j],end=\" \")\n",
    "    print()\n",
    "print()\n",
    "print(f'Matrix after rotating by 180 degreess')\n",
    "x=rot_180(matrix)\n",
    "row=len(x)\n",
    "col=len(x[0])\n",
    "for i in range(row):\n",
    "    for j in range(col):\n",
    "        print(x[i][j],end=\" \")\n",
    "    print()\n",
    "print()\n",
    "print(f'Matrix after rotating by 270 degreess')\n",
    "x=rot_270(matrix)\n",
    "row=len(x)\n",
    "col=len(x[0])\n",
    "for i in range(row):\n",
    "    for j in range(col):\n",
    "        print(x[i][j],end=\" \")\n",
    "    print()\n",
    "print(f'Matrix after rotating by 45 degreess')\n",
    "rot_45(mat)"
   ]
  },
  {
   "cell_type": "code",
   "execution_count": 96,
   "id": "2fd67041-f6c9-4bda-ba8e-70d6ef7ddd38",
   "metadata": {},
   "outputs": [
    {
     "name": "stdout",
     "output_type": "stream",
     "text": [
      "  7 \n",
      " 4 8 \n",
      "1 5 9 \n",
      " 2 6 \n",
      "  3 \n"
     ]
    }
   ],
   "source": [
    "#Matrix after rotating for 135 degrees\n",
    "mat=[[1,2,3],[4,5,6],[7,8,9]]\n",
    "mat90=rot_90(mat)\n",
    "rot_45(mat90)"
   ]
  },
  {
   "cell_type": "code",
   "execution_count": 98,
   "id": "f6ec4490-3f43-4585-9647-c8cc21494954",
   "metadata": {},
   "outputs": [
    {
     "name": "stdout",
     "output_type": "stream",
     "text": [
      "  9 \n",
      " 8 6 \n",
      "7 5 3 \n",
      " 4 2 \n",
      "  1 \n"
     ]
    }
   ],
   "source": [
    "#matrix after rotating for 225 degrees\n",
    "mat=[[1,2,3],[4,5,6],[7,8,9]]\n",
    "mat180=rot_180(mat)\n",
    "rot_45(mat180)"
   ]
  },
  {
   "cell_type": "code",
   "execution_count": 99,
   "id": "72ac4d39-2f07-4e11-8aba-3d640d6f4a1a",
   "metadata": {},
   "outputs": [
    {
     "name": "stdout",
     "output_type": "stream",
     "text": [
      "  3 \n",
      " 6 2 \n",
      "9 5 1 \n",
      " 8 4 \n",
      "  7 \n"
     ]
    }
   ],
   "source": [
    "#matrix after rotating for 315 degrees \n",
    "mat=[[1,2,3],[4,5,6],[7,8,9]]\n",
    "mat270=rot_270(mat)\n",
    "rot_45(mat270)"
   ]
  },
  {
   "cell_type": "code",
   "execution_count": null,
   "id": "2566846b-d8bf-4329-95c8-c92f7fb1b13e",
   "metadata": {},
   "outputs": [],
   "source": []
  }
 ],
 "metadata": {
  "kernelspec": {
   "display_name": "Python 3 (ipykernel)",
   "language": "python",
   "name": "python3"
  },
  "language_info": {
   "codemirror_mode": {
    "name": "ipython",
    "version": 3
   },
   "file_extension": ".py",
   "mimetype": "text/x-python",
   "name": "python",
   "nbconvert_exporter": "python",
   "pygments_lexer": "ipython3",
   "version": "3.12.4"
  }
 },
 "nbformat": 4,
 "nbformat_minor": 5
}
